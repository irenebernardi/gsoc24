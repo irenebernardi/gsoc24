{
 "cells": [
  {
   "cell_type": "code",
   "execution_count": 2,
   "metadata": {},
   "outputs": [
    {
     "name": "stdout",
     "output_type": "stream",
     "text": [
      "{'a': 0, 'b': 'x', 'c': 2}\n",
      "{'a': 0, 'b': 'x', 'c': 3}\n",
      "{'a': 0, 'b': 'x', 'c': 4}\n",
      "{'a': 0, 'b': 'x', 'c': 5}\n",
      "{'a': 0, 'b': 'y', 'c': 2}\n",
      "{'a': 0, 'b': 'y', 'c': 3}\n",
      "{'a': 0, 'b': 'y', 'c': 4}\n",
      "{'a': 0, 'b': 'y', 'c': 5}\n",
      "{'a': 0, 'b': 'z', 'c': 2}\n",
      "{'a': 0, 'b': 'z', 'c': 3}\n",
      "{'a': 0, 'b': 'z', 'c': 4}\n",
      "{'a': 0, 'b': 'z', 'c': 5}\n",
      "{'a': 1, 'b': 'x', 'c': 2}\n",
      "{'a': 1, 'b': 'x', 'c': 3}\n",
      "{'a': 1, 'b': 'x', 'c': 4}\n",
      "{'a': 1, 'b': 'x', 'c': 5}\n",
      "{'a': 1, 'b': 'y', 'c': 2}\n",
      "{'a': 1, 'b': 'y', 'c': 3}\n",
      "{'a': 1, 'b': 'y', 'c': 4}\n",
      "{'a': 1, 'b': 'y', 'c': 5}\n",
      "{'a': 1, 'b': 'z', 'c': 2}\n",
      "{'a': 1, 'b': 'z', 'c': 3}\n",
      "{'a': 1, 'b': 'z', 'c': 4}\n",
      "{'a': 1, 'b': 'z', 'c': 5}\n"
     ]
    }
   ],
   "source": [
    "import pandas\n",
    "import itertools\n",
    "\n",
    "def dcx(**kwargs):\n",
    "    for instance in itertools.product(*kwargs.values()):\n",
    "        yield dict(zip(kwargs.keys(), instance))\n",
    "    \n",
    "test = {'a': [0, 1],\n",
    "        'b': ['x', 'y', 'z'],\n",
    "        'c': [2, 3, 4, 5]}\n",
    "\n",
    "for batch in dcx(**test):\n",
    "    print(batch)"
   ]
  },
  {
   "cell_type": "code",
   "execution_count": 12,
   "metadata": {},
   "outputs": [
    {
     "name": "stdout",
     "output_type": "stream",
     "text": [
      "   a  b  c  run\n",
      "0  0  x  2    0\n",
      "1  0  x  3    1\n",
      "2  0  x  4    2\n",
      "   a  b  c  run\n",
      "0  0  x  5    3\n",
      "1  0  y  2    4\n",
      "2  0  y  3    5\n",
      "   a  b  c  run\n",
      "0  0  y  4    6\n",
      "1  0  y  5    7\n",
      "2  0  z  2    8\n",
      "   a  b  c  run\n",
      "0  0  z  3    9\n",
      "1  0  z  4   10\n",
      "2  0  z  5   11\n",
      "   a  b  c  run\n",
      "0  1  x  2   12\n",
      "1  1  x  3   13\n",
      "2  1  x  4   14\n",
      "   a  b  c  run\n",
      "0  1  x  5   15\n",
      "1  1  y  2   16\n",
      "2  1  y  3   17\n",
      "   a  b  c  run\n",
      "0  1  y  4   18\n",
      "1  1  y  5   19\n",
      "2  1  z  2   20\n",
      "   a  b  c  run\n",
      "0  1  z  3   21\n",
      "1  1  z  4   22\n",
      "2  1  z  5   23\n"
     ]
    }
   ],
   "source": [
    "bins = []\n",
    "bin_size = 3\n",
    "\n",
    "curr_size = 0\n",
    "curr_batch = []\n",
    "for run, batch in enumerate(dcx(**test)):\n",
    "    batch[\"run\"] = run\n",
    "    curr_batch.append(pandas.Series(batch))\n",
    "    curr_size += 1\n",
    "    if curr_size == bin_size:\n",
    "        bins.append(pandas.DataFrame(curr_batch))\n",
    "        curr_batch = []\n",
    "        curr_size = 0\n",
    "\n",
    "for _bin in bins:\n",
    "    print(_bin)\n"
   ]
  },
  {
   "cell_type": "code",
   "execution_count": null,
   "metadata": {},
   "outputs": [],
   "source": []
  }
 ],
 "metadata": {
  "kernelspec": {
   "display_name": "Python 3",
   "language": "python",
   "name": "python3"
  },
  "language_info": {
   "codemirror_mode": {
    "name": "ipython",
    "version": 3
   },
   "file_extension": ".py",
   "mimetype": "text/x-python",
   "name": "python",
   "nbconvert_exporter": "python",
   "pygments_lexer": "ipython3",
   "version": "3.6.6+"
  }
 },
 "nbformat": 4,
 "nbformat_minor": 2
}
